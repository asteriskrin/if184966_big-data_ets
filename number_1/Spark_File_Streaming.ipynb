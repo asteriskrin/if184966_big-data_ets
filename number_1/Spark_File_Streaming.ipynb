{
  "cells": [
    {
      "cell_type": "code",
      "source": [
        "!pip install pyspark"
      ],
      "metadata": {
        "colab": {
          "base_uri": "https://localhost:8080/"
        },
        "id": "nVI9HC5AcT-R",
        "outputId": "ac55032a-6b5d-4779-a855-5b4884a526d5"
      },
      "execution_count": 2,
      "outputs": [
        {
          "output_type": "stream",
          "name": "stdout",
          "text": [
            "Looking in indexes: https://pypi.org/simple, https://us-python.pkg.dev/colab-wheels/public/simple/\n",
            "Collecting pyspark\n",
            "  Downloading pyspark-3.4.0.tar.gz (310.8 MB)\n",
            "\u001b[2K     \u001b[90m━━━━━━━━━━━━━━━━━━━━━━━━━━━━━━━━━━━━━━━\u001b[0m \u001b[32m310.8/310.8 MB\u001b[0m \u001b[31m5.0 MB/s\u001b[0m eta \u001b[36m0:00:00\u001b[0m\n",
            "\u001b[?25h  Preparing metadata (setup.py) ... \u001b[?25l\u001b[?25hdone\n",
            "Requirement already satisfied: py4j==0.10.9.7 in /usr/local/lib/python3.9/dist-packages (from pyspark) (0.10.9.7)\n",
            "Building wheels for collected packages: pyspark\n",
            "  Building wheel for pyspark (setup.py) ... \u001b[?25l\u001b[?25hdone\n",
            "  Created wheel for pyspark: filename=pyspark-3.4.0-py2.py3-none-any.whl size=311317145 sha256=9e27675b0b019d39286699e116fb81d7016580e5e5de803d6bb65e7328a0c68b\n",
            "  Stored in directory: /root/.cache/pip/wheels/9f/34/a4/159aa12d0a510d5ff7c8f0220abbea42e5d81ecf588c4fd884\n",
            "Successfully built pyspark\n",
            "Installing collected packages: pyspark\n",
            "Successfully installed pyspark-3.4.0\n"
          ]
        }
      ]
    },
    {
      "cell_type": "markdown",
      "metadata": {
        "id": "u9ByxoR7pCjo"
      },
      "source": [
        "## Initiate the Spark session"
      ]
    },
    {
      "cell_type": "code",
      "execution_count": 3,
      "metadata": {
        "id": "ie-foHslfHX0"
      },
      "outputs": [],
      "source": [
        "# Import Apache Spark SQL\n",
        "from pyspark.sql import SparkSession\n",
        "\n",
        "# Create Spark Session/Context\n",
        "# We are using local machine with all the CPU cores [*]\n",
        "spark = SparkSession.builder \\\n",
        "    .master(\"local[*]\") \\\n",
        "    .appName(\"myPySpark\") \\\n",
        "    .getOrCreate()"
      ]
    },
    {
      "cell_type": "code",
      "execution_count": 4,
      "metadata": {
        "id": "ZX4720XhfJPN",
        "colab": {
          "base_uri": "https://localhost:8080/"
        },
        "outputId": "8c08f727-b104-424c-b4ff-aeb1770f5b64"
      },
      "outputs": [
        {
          "output_type": "stream",
          "name": "stdout",
          "text": [
            "<pyspark.sql.session.SparkSession object at 0x7f98363d75b0>\n"
          ]
        }
      ],
      "source": [
        "# Check spark session\n",
        "print(spark)"
      ]
    },
    {
      "cell_type": "markdown",
      "metadata": {
        "id": "KRk6bxKdpFcP"
      },
      "source": [
        "## Define the data structure"
      ]
    },
    {
      "cell_type": "code",
      "execution_count": 5,
      "metadata": {
        "id": "TDZ2fVBrfoWj"
      },
      "outputs": [],
      "source": [
        "from pyspark.sql.types import StructType, StructField, StringType, IntegerType\n",
        "\n",
        "schema = StructType([\\\n",
        "        StructField(\"link\", StringType(), True),\\\n",
        "        StructField(\"headline\", StringType(), True),\\\n",
        "        StructField(\"category\", StringType(), True),\\\n",
        "        StructField(\"short_description\", StringType(), True),\\\n",
        "        StructField(\"authors\", StringType(), True),\\\n",
        "        StructField(\"date\", StringType(), True),\\\n",
        "])"
      ]
    },
    {
      "cell_type": "markdown",
      "metadata": {
        "id": "nTsOfST_pIOh"
      },
      "source": [
        "## Determine the folder location"
      ]
    },
    {
      "cell_type": "code",
      "execution_count": 10,
      "metadata": {
        "id": "O0AUBMkzgbzy"
      },
      "outputs": [],
      "source": [
        "df = spark.readStream.schema(schema).json(\"/content/input-05111940000063/\")"
      ]
    },
    {
      "cell_type": "code",
      "execution_count": 11,
      "metadata": {
        "id": "M_CY5TuWgna-",
        "colab": {
          "base_uri": "https://localhost:8080/"
        },
        "outputId": "d39c4bd4-e2d5-44df-e2b9-348cd929e6e1"
      },
      "outputs": [
        {
          "output_type": "stream",
          "name": "stdout",
          "text": [
            "root\n",
            " |-- link: string (nullable = true)\n",
            " |-- headline: string (nullable = true)\n",
            " |-- category: string (nullable = true)\n",
            " |-- short_description: string (nullable = true)\n",
            " |-- authors: string (nullable = true)\n",
            " |-- date: string (nullable = true)\n",
            "\n"
          ]
        }
      ],
      "source": [
        "df.printSchema()"
      ]
    },
    {
      "cell_type": "markdown",
      "metadata": {
        "id": "kT7Pd2_2pLAX"
      },
      "source": [
        "## Do the aggregation step"
      ]
    },
    {
      "cell_type": "code",
      "execution_count": 12,
      "metadata": {
        "id": "s_S_x4jvgpUP",
        "colab": {
          "base_uri": "https://localhost:8080/"
        },
        "outputId": "36445024-9566-4c91-e55b-905f27d7cac5"
      },
      "outputs": [
        {
          "output_type": "stream",
          "name": "stdout",
          "text": [
            "root\n",
            " |-- category: string (nullable = true)\n",
            " |-- count: long (nullable = false)\n",
            "\n"
          ]
        }
      ],
      "source": [
        "groupDF = df.select(\"category\").groupBy(\"category\").count()\n",
        "\n",
        "groupDF.printSchema()"
      ]
    },
    {
      "cell_type": "markdown",
      "metadata": {
        "id": "bqXN02f_pOC1"
      },
      "source": [
        "## Start the streaming task"
      ]
    },
    {
      "cell_type": "code",
      "execution_count": null,
      "metadata": {
        "id": "gy2bVWyfg1_p"
      },
      "outputs": [],
      "source": [
        "result = groupDF.writeStream\\\n",
        "  .format(\"csv\")\\\n",
        "  .checkpoint(\"/checkpoint\")\n",
        "  .output(\"/output-05111940000063\")\n",
        "  .outputMode(\"append\")\\\n",
        "  .start()\n",
        "\n",
        "result.awaitTermination()"
      ]
    }
  ],
  "metadata": {
    "colab": {
      "provenance": []
    },
    "kernelspec": {
      "display_name": "Python 3",
      "name": "python3"
    },
    "language_info": {
      "codemirror_mode": {
        "name": "ipython",
        "version": 3
      },
      "file_extension": ".py",
      "mimetype": "text/x-python",
      "name": "python",
      "nbconvert_exporter": "python",
      "pygments_lexer": "ipython3",
      "version": "3.9.16"
    }
  },
  "nbformat": 4,
  "nbformat_minor": 0
}